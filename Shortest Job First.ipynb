{
 "cells": [
  {
   "cell_type": "markdown",
   "metadata": {},
   "source": [
    "# SHORTEST JOB FIRST"
   ]
  },
  {
   "cell_type": "code",
   "execution_count": 26,
   "metadata": {},
   "outputs": [
    {
     "name": "stdout",
     "output_type": "stream",
     "text": [
      "\u001b[1m       NON-PREEMPTIVE SHORTEST JOB FIRST ALGORITHM(SFJ)        \u001b[0m\n",
      "---------------------------------------------------------------\n",
      "\n",
      "\n",
      "Enter the number of process : 3\n",
      "Enter the Burst Time of 1 Processes : 24\n",
      "Enter the Burst Time of 2 Processes : 3\n",
      "Enter the Burst Time of 3 Processes : 3\n",
      "\n",
      "\n",
      "Process\t  Burst Time\t  Waiting Time\t  Turn Around Time\n",
      "  2\t\t3\t\t0\t\t3\n",
      "  3\t\t3\t\t3\t\t6\n",
      "  1\t\t24\t\t6\t\t30\n",
      "Average Waiting time is: 3.0\n",
      "Average Turn Arount Time is: 12.0\n"
     ]
    }
   ],
   "source": [
    "print(\"\\033[1m\" + \"       NON-PREEMPTIVE SHORTEST JOB FIRST ALGORITHM(SFJ)        \" + \"\\033[0m\")\n",
    "print(\"---------------------------------------------------------------\\n\\n\")\n",
    "\n",
    "n=int(input(\"Enter the number of process : \"))\n",
    "processes=[]\n",
    "for i in range(0,n):\n",
    "    processes.insert(i,i+1)\n",
    "    \n",
    "bt=[]\n",
    "#Input Burst time of every process\n",
    "for i in range(1, n+1):\n",
    "    temp_bt = 0\n",
    "    temp_bt = int(input(\"Enter the Burst Time of \" + str(i) + \" Processes : \"))\n",
    "    bt.append(temp_bt)\n",
    "for i in range(0,len(bt)-1):  #applying bubble sort to sort process according to their burst time\n",
    "    for j in range(0,len(bt)-i-1):\n",
    "        if(bt[j]>bt[j+1]):\n",
    "            temp=bt[j]\n",
    "            bt[j]=bt[j+1]\n",
    "            bt[j+1]=temp\n",
    "            temp=processes[j]\n",
    "            processes[j]=processes[j+1]\n",
    "            processes[j+1]=temp\n",
    "wt=[]    #wt stands for waiting time\n",
    "avgwt=0  #average of waiting time\n",
    "tat=[]    #tat stands for turnaround time\n",
    "avgtat=0   #average of total turnaround time\n",
    "wt.insert(0,0)\n",
    "tat.insert(0,bt[0])\n",
    "for i in range(1,len(bt)):  \n",
    "    wt.insert(i,wt[i-1]+bt[i-1])\n",
    "    tat.insert(i,wt[i]+bt[i])\n",
    "    avgwt+=wt[i]\n",
    "    avgtat+=tat[i]\n",
    "avgwt=float(avgwt)/n\n",
    "avgtat=float(avgtat)/n\n",
    "print(\"\\n\")\n",
    "print(\"Process\\t  Burst Time\\t  Waiting Time\\t  Turn Around Time\")\n",
    "for i in range(0,n):\n",
    "    print(\"  \"+str(processes[i])+\"\\t\\t\"+str(bt[i])+\"\\t\\t\"+str(wt[i])+\"\\t\\t\"+str(tat[i]))\n",
    "print(\"Average Waiting time is: \"+str(avgwt))\n",
    "print(\"Average Turn Arount Time is: \"+str(avgtat))"
   ]
  }
 ],
 "metadata": {
  "kernelspec": {
   "display_name": "Python 3",
   "language": "python",
   "name": "python3"
  },
  "language_info": {
   "codemirror_mode": {
    "name": "ipython",
    "version": 3
   },
   "file_extension": ".py",
   "mimetype": "text/x-python",
   "name": "python",
   "nbconvert_exporter": "python",
   "pygments_lexer": "ipython3",
   "version": "3.8.3"
  }
 },
 "nbformat": 4,
 "nbformat_minor": 4
}
